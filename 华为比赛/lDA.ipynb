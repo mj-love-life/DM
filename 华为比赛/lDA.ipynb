{
 "cells": [
  {
   "cell_type": "code",
   "execution_count": 1,
   "metadata": {
    "_cell_guid": "b1076dfc-b9ad-4769-8c92-a6c4dae69d19",
    "_uuid": "8f2839f25d086af736a60e9eeb907d3b93b6e0e5"
   },
   "outputs": [],
   "source": [
    "# # This Python 3 environment comes with many helpful analytics libraries installed\n",
    "# # It is defined by the kaggle/python docker image: https://github.com/kaggle/docker-python\n",
    "# # For example, here's several helpful packages to load in \n",
    "\n",
    "# import numpy as np # linear algebra\n",
    "# import pandas as pd # data processing, CSV file I/O (e.g. pd.read_csv)\n",
    "\n",
    "# # Input data files are available in the \"../input/\" directory.\n",
    "# # For example, running this (by clicking run or pressing Shift+Enter) will list the files in the input directory\n",
    "\n",
    "# import os\n",
    "# print(os.listdir(\"../input\"))\n",
    "\n",
    "# # Any results you write to the current directory are saved as output."
   ]
  },
  {
   "cell_type": "code",
   "execution_count": 2,
   "metadata": {},
   "outputs": [],
   "source": [
    "# import numpy as np\n",
    "# import pandas as pd\n",
    "# import warnings\n",
    "# warnings.filterwarnings('ignore')\n",
    "# path = '../input/'"
   ]
  },
  {
   "cell_type": "code",
   "execution_count": 3,
   "metadata": {},
   "outputs": [],
   "source": [
    "# import lightgbm as lgb\n",
    "# pd.set_option('display.max_columns',None)\n",
    "# user_app_actived_reader = pd.read_csv(path + \"user_app_actived.csv\", names=['uid','appId'], iterator=True)"
   ]
  },
  {
   "cell_type": "code",
   "execution_count": 4,
   "metadata": {},
   "outputs": [],
   "source": [
    "# app_id_used = []\n",
    "# app_id_frequence = dict()\n",
    "# i = 1\n",
    "# while True:\n",
    "#     try:\n",
    "#         print(\"index: {}\".format(i))\n",
    "#         i+=1\n",
    "#         df = user_app_actived_reader.get_chunk(100000)\n",
    "#         for index, row in df.iterrows():\n",
    "#             temp = row['appId'].split('#')\n",
    "#             app_id_used += temp\n",
    "# #             app_id_used = list(set(app_id_used))\n",
    "# #             for app_id_key in temp:\n",
    "# #                 app_id_frequence[app_id_key] = 1\n",
    "# #                 app_id_frequence[app_id_key] = 1 if app_id_key not in app_id_frequence.keys() else app_id_frequence[app_id_key] + 1\n",
    "#     except StopIteration:\n",
    "#         break"
   ]
  },
  {
   "cell_type": "code",
   "execution_count": 5,
   "metadata": {},
   "outputs": [],
   "source": [
    "# from collections import Counter\n",
    "# counter = Counter(app_id_used)"
   ]
  },
  {
   "cell_type": "code",
   "execution_count": 6,
   "metadata": {},
   "outputs": [],
   "source": [
    "# counter = pd.DataFrame(data={\n",
    "#     'appId': list(counter.keys()),\n",
    "#     'app_fre': list(counter.values())\n",
    "# })"
   ]
  },
  {
   "cell_type": "code",
   "execution_count": 7,
   "metadata": {},
   "outputs": [],
   "source": [
    "# counter.describe()"
   ]
  },
  {
   "cell_type": "code",
   "execution_count": 8,
   "metadata": {},
   "outputs": [],
   "source": [
    "# id2fre_dict = dict(zip(counter.appId.values, counter.app_fre.values))"
   ]
  },
  {
   "cell_type": "code",
   "execution_count": 9,
   "metadata": {},
   "outputs": [],
   "source": [
    "# app_id_used = set(counter.appId.values)"
   ]
  },
  {
   "cell_type": "code",
   "execution_count": 10,
   "metadata": {},
   "outputs": [],
   "source": [
    "# app_info = pd.read_csv(path + 'app_info.csv', names=['appId','category'])"
   ]
  },
  {
   "cell_type": "code",
   "execution_count": 11,
   "metadata": {},
   "outputs": [],
   "source": [
    "# app_id_exist = set(app_info.appId.values)"
   ]
  },
  {
   "cell_type": "code",
   "execution_count": 12,
   "metadata": {},
   "outputs": [],
   "source": [
    "# app_id_not_exist = app_id_used.difference(app_id_exist)\n",
    "# app_id_intersection = app_id_exist.intersection(app_id_used)"
   ]
  },
  {
   "cell_type": "code",
   "execution_count": 13,
   "metadata": {},
   "outputs": [],
   "source": [
    "# print(len(app_id_not_exist), len(app_id_intersection), len(app_id_exist), len(app_id_used))"
   ]
  },
  {
   "cell_type": "code",
   "execution_count": 14,
   "metadata": {},
   "outputs": [],
   "source": [
    "# df_intersection = pd.DataFrame()\n",
    "# df_intersection['appId'] = list(app_id_intersection)\n",
    "# df_intersection.head()"
   ]
  },
  {
   "cell_type": "code",
   "execution_count": 15,
   "metadata": {},
   "outputs": [],
   "source": [
    "# df_intersection = pd.merge(df_intersection, app_info, on='appId', how='left')"
   ]
  },
  {
   "cell_type": "code",
   "execution_count": 16,
   "metadata": {},
   "outputs": [],
   "source": [
    "# df_intersection.describe()"
   ]
  },
  {
   "cell_type": "code",
   "execution_count": 17,
   "metadata": {},
   "outputs": [],
   "source": [
    "# df_diff = pd.DataFrame()"
   ]
  },
  {
   "cell_type": "markdown",
   "metadata": {},
   "source": [
    "**暂时作为未知进行处理，后面考虑进行分类别？**"
   ]
  },
  {
   "cell_type": "code",
   "execution_count": 18,
   "metadata": {},
   "outputs": [],
   "source": [
    "# df_diff['appId'] = list(app_id_not_exist)\n",
    "# # 暂时作为未知进行处理\n",
    "# df_diff['category'] = '未知'\n",
    "# app_info_used = df_intersection.append(df_diff)"
   ]
  },
  {
   "cell_type": "code",
   "execution_count": 19,
   "metadata": {},
   "outputs": [],
   "source": [
    "# app_info_used.describe()"
   ]
  },
  {
   "cell_type": "code",
   "execution_count": 20,
   "metadata": {},
   "outputs": [],
   "source": [
    "# app_info_used[app_info_used.appId == 'a00313693']"
   ]
  },
  {
   "cell_type": "code",
   "execution_count": 21,
   "metadata": {},
   "outputs": [],
   "source": [
    "# app_info_used['frequency'] = app_info_used['appId'].apply(lambda x: id2fre_dict[x])"
   ]
  },
  {
   "cell_type": "code",
   "execution_count": 22,
   "metadata": {},
   "outputs": [],
   "source": [
    "# app_info_appId_counter = Counter(app_info_used['appId'].values)"
   ]
  },
  {
   "cell_type": "code",
   "execution_count": 23,
   "metadata": {},
   "outputs": [],
   "source": [
    "# app_info_used['category_num'] = app_info_used['appId'].apply(lambda x: app_info_appId_counter[x])"
   ]
  },
  {
   "cell_type": "code",
   "execution_count": 24,
   "metadata": {},
   "outputs": [],
   "source": [
    "# app_info_used.head()"
   ]
  },
  {
   "cell_type": "markdown",
   "metadata": {},
   "source": [
    "添加category_id字段，也就是category映射到32个字段上，同时添加frequency_inv字段，**暂时取2512500/frequency** 2512500是总人数"
   ]
  },
  {
   "cell_type": "code",
   "execution_count": 25,
   "metadata": {},
   "outputs": [],
   "source": [
    "# category2id = dict(zip(np.unique(app_info_used.category.values), np.arange(1, 33)))"
   ]
  },
  {
   "cell_type": "code",
   "execution_count": 26,
   "metadata": {},
   "outputs": [],
   "source": [
    "# category2id"
   ]
  },
  {
   "cell_type": "code",
   "execution_count": 27,
   "metadata": {},
   "outputs": [],
   "source": [
    "# app_info_used['category_id'] = app_info_used.category.apply(lambda x: category2id[x])\n",
    "# app_info_used['frequency_inv'] = 2512500/app_info_used['frequency']"
   ]
  },
  {
   "cell_type": "code",
   "execution_count": 28,
   "metadata": {},
   "outputs": [],
   "source": [
    "# app_info_used.head()"
   ]
  },
  {
   "cell_type": "code",
   "execution_count": 29,
   "metadata": {},
   "outputs": [],
   "source": [
    "# app_info_used = app_info_used.sort_values(by=['appId'])"
   ]
  },
  {
   "cell_type": "code",
   "execution_count": 30,
   "metadata": {},
   "outputs": [],
   "source": [
    "# app_info_used.head()"
   ]
  },
  {
   "cell_type": "code",
   "execution_count": 31,
   "metadata": {},
   "outputs": [],
   "source": [
    "# app_info_used.index = np.arange(0, len(app_info_used.index))"
   ]
  },
  {
   "cell_type": "code",
   "execution_count": 32,
   "metadata": {},
   "outputs": [],
   "source": [
    "# app_info_used.head()"
   ]
  },
  {
   "cell_type": "code",
   "execution_count": 33,
   "metadata": {},
   "outputs": [],
   "source": [
    "# id2category_dict = dict()\n",
    "# id2freq = dict()\n",
    "# id2category_num = dict()\n",
    "# for index, row in app_info_used.iterrows():\n",
    "#     if row['appId'] in id2category_dict:\n",
    "#         id2category_dict[row['appId']] += [row['category_id']]\n",
    "        \n",
    "#     else:\n",
    "#         id2category_dict[row['appId']] = [row['category_id']]\n",
    "#         id2freq[row['appId']] = row['frequency_inv']\n",
    "#         id2category_num[row['appId']] = row['category_num']"
   ]
  },
  {
   "cell_type": "code",
   "execution_count": 34,
   "metadata": {},
   "outputs": [],
   "source": [
    "# [str(i)+ 'jjj' for i in id2category_dict['a00143562']]"
   ]
  },
  {
   "cell_type": "markdown",
   "metadata": {},
   "source": [
    "## id2category_dict = dict()  app_id -> category\n",
    "## id2freq = dict()           app_id -> freq\n",
    "## id2category_num = dict()   app_id -> category_num"
   ]
  },
  {
   "cell_type": "markdown",
   "metadata": {},
   "source": [
    "## app_info_used 是app信息表格"
   ]
  },
  {
   "cell_type": "code",
   "execution_count": 35,
   "metadata": {},
   "outputs": [],
   "source": [
    "# age_test = pd.read_csv(path + 'age_test.csv', names = ['uId'])\n",
    "# age_train = pd.read_csv(path + 'age_train.csv', names = ['uId'], usecols=[0])\n",
    "# age_test = list(age_test.uId.values)\n",
    "# age_uid_total = age_test + list(age_train.uId.values)\n",
    "# age_uid_total = set(age_uid_total)\n",
    "# app_actived = pd.read_csv(path + 'user_app_actived.csv', header=None, names = ['uId', 'appId'])\n",
    "# app_actived_uid = set(app_actived.uId.values)"
   ]
  },
  {
   "cell_type": "code",
   "execution_count": 36,
   "metadata": {},
   "outputs": [],
   "source": [
    "# app_actived"
   ]
  },
  {
   "cell_type": "markdown",
   "metadata": {},
   "source": [
    "没有缺失值，这是一件值得开心的事情"
   ]
  },
  {
   "cell_type": "code",
   "execution_count": 37,
   "metadata": {},
   "outputs": [],
   "source": [
    "# len(age_uid_total.difference(app_actived_uid))"
   ]
  },
  {
   "cell_type": "code",
   "execution_count": 38,
   "metadata": {},
   "outputs": [],
   "source": [
    "# app_actived_uid == age_uid_total"
   ]
  },
  {
   "cell_type": "code",
   "execution_count": 39,
   "metadata": {},
   "outputs": [],
   "source": [
    "# len(app_actived_uid)"
   ]
  },
  {
   "cell_type": "markdown",
   "metadata": {},
   "source": [
    "用户表 添加 category_num   [1, 2, 3, 4, 5, 6, 8] 7个 字段、添加category  1-32个字段"
   ]
  },
  {
   "cell_type": "code",
   "execution_count": 40,
   "metadata": {},
   "outputs": [],
   "source": [
    "# category_index = ['category' + str(i + 1) for i in range(32)]\n",
    "# len(category_index)\n",
    "# category_num_index = ['category_num' + str(i) for i in [1, 2, 3, 4, 5, 6, 8]]\n",
    "# len(category_num_index)\n",
    "# new_index = category_index + category_num_index\n"
   ]
  },
  {
   "cell_type": "code",
   "execution_count": 41,
   "metadata": {},
   "outputs": [],
   "source": [
    "# for index in new_index:\n",
    "#     app_actived[index] = 0\n",
    "#     app_actived[index] = app_actived[index].astype(int)"
   ]
  },
  {
   "cell_type": "code",
   "execution_count": 42,
   "metadata": {},
   "outputs": [],
   "source": [
    "# app_actived['fre'] = 0.0"
   ]
  },
  {
   "cell_type": "code",
   "execution_count": 43,
   "metadata": {},
   "outputs": [],
   "source": [
    "# app_actived.head()"
   ]
  },
  {
   "cell_type": "code",
   "execution_count": 44,
   "metadata": {},
   "outputs": [],
   "source": [
    "# max(id2category_num.values())"
   ]
  },
  {
   "cell_type": "code",
   "execution_count": 45,
   "metadata": {},
   "outputs": [],
   "source": [
    "# # id2category_dict = dict()\n",
    "# # id2freq = dict()\n",
    "# # id2category_num = dict()\n",
    "# def get_statis(app_id_list):\n",
    "#     app_id = app_id_list.split('#')\n",
    "#     temps = np.zeros(39, dtype=int)\n",
    "#     freq = 0\n",
    "#     for i in app_id:\n",
    "#         temps[np.array(id2category_dict[i]) - 1] += 1\n",
    "#         freq += id2freq[i]\n",
    "#         temp_num = id2category_num[i]\n",
    "#         if temp_num == 8:\n",
    "#             temp_num = 7\n",
    "#         temps[temp_num + 32 - 1] += 1\n",
    "# #     temps = np.array(list(temps).append(freq))\n",
    "#     return list(temps) + [freq]"
   ]
  },
  {
   "cell_type": "code",
   "execution_count": 46,
   "metadata": {},
   "outputs": [],
   "source": [
    "# index = new_index + ['fre']"
   ]
  },
  {
   "cell_type": "code",
   "execution_count": 47,
   "metadata": {},
   "outputs": [],
   "source": [
    "# temp = app_actived.appId.apply(lambda x: get_statis(x))"
   ]
  },
  {
   "cell_type": "code",
   "execution_count": 48,
   "metadata": {},
   "outputs": [],
   "source": [
    "# len(temp[1])"
   ]
  },
  {
   "cell_type": "code",
   "execution_count": 49,
   "metadata": {},
   "outputs": [],
   "source": [
    "# len(index)"
   ]
  },
  {
   "cell_type": "code",
   "execution_count": 50,
   "metadata": {},
   "outputs": [],
   "source": [
    "# temp2 = app_actived[index].iloc[0]"
   ]
  },
  {
   "cell_type": "code",
   "execution_count": 51,
   "metadata": {},
   "outputs": [],
   "source": [
    "# temp2[index] = temp[1]"
   ]
  },
  {
   "cell_type": "code",
   "execution_count": 52,
   "metadata": {},
   "outputs": [],
   "source": [
    "# for i in range(app_actived.shape[0]):\n",
    "#     app_actived[index] = temp[i]"
   ]
  },
  {
   "cell_type": "code",
   "execution_count": 53,
   "metadata": {},
   "outputs": [],
   "source": [
    "# app2fea_dict = dict(zip(app_actived.uId.values, temp))"
   ]
  },
  {
   "cell_type": "code",
   "execution_count": 54,
   "metadata": {},
   "outputs": [],
   "source": [
    "# app_actived[index] = np.vstack(app_actived.uId.apply(lambda x:np.array(app2fea_dict[x])).values)\n",
    "# app_actived.head()"
   ]
  },
  {
   "cell_type": "code",
   "execution_count": 55,
   "metadata": {},
   "outputs": [],
   "source": [
    "# %whos"
   ]
  },
  {
   "cell_type": "code",
   "execution_count": 56,
   "metadata": {},
   "outputs": [],
   "source": [
    "# app_actived['app_num'] = app_actived.appId.apply(lambda x: len(x.split('#')))"
   ]
  },
  {
   "cell_type": "code",
   "execution_count": 57,
   "metadata": {},
   "outputs": [],
   "source": [
    "# app_actived.head()"
   ]
  },
  {
   "cell_type": "markdown",
   "metadata": {},
   "source": [
    "## 转变存储格式"
   ]
  },
  {
   "cell_type": "code",
   "execution_count": 58,
   "metadata": {},
   "outputs": [],
   "source": [
    "# app_actived['app_num'] = app_actived['app_num'].astype(int)\n",
    "# app_actived[new_index] = app_actived[new_index].astype(int)\n",
    "\n",
    "# # 丢弃app_id列\n",
    "# app_actived.drop(columns = 'appId', inplace=True)"
   ]
  },
  {
   "cell_type": "code",
   "execution_count": 59,
   "metadata": {},
   "outputs": [],
   "source": [
    "# app_actived.head()"
   ]
  },
  {
   "cell_type": "code",
   "execution_count": 60,
   "metadata": {},
   "outputs": [],
   "source": [
    "# app_actived.to_csv('app_actived_new.csv', index=False)"
   ]
  },
  {
   "cell_type": "code",
   "execution_count": 61,
   "metadata": {},
   "outputs": [],
   "source": [
    "# app_info_used.to_csv('app_info_used.csv', index=False)"
   ]
  },
  {
   "cell_type": "code",
   "execution_count": 62,
   "metadata": {},
   "outputs": [],
   "source": [
    "# ls"
   ]
  },
  {
   "cell_type": "markdown",
   "metadata": {},
   "source": [
    "## app_actived处理完毕\n",
    "接下来进行marge然后训练模型"
   ]
  },
  {
   "cell_type": "code",
   "execution_count": 63,
   "metadata": {},
   "outputs": [],
   "source": [
    "# %whos"
   ]
  },
  {
   "cell_type": "markdown",
   "metadata": {},
   "source": [
    "# 第五次特征工程，希望不爆"
   ]
  },
  {
   "cell_type": "code",
   "execution_count": 64,
   "metadata": {},
   "outputs": [],
   "source": [
    "import pandas as pd\n",
    "import seaborn as sns\n",
    "import numpy as np\n",
    "from tqdm import tqdm\n",
    "from sklearn.decomposition import LatentDirichletAllocation\n",
    "from sklearn.model_selection import train_test_split\n",
    "from sklearn.metrics import accuracy_score\n",
    "import lightgbm as lgb\n",
    "from datetime import datetime,timedelta  \n",
    "import matplotlib.pyplot as plt\n",
    "import time\n",
    "from sklearn.feature_extraction.text import TfidfTransformer\n",
    "from sklearn.feature_extraction.text import CountVectorizer\n",
    "%matplotlib inline"
   ]
  },
  {
   "cell_type": "code",
   "execution_count": 65,
   "metadata": {},
   "outputs": [],
   "source": [
    "PATH = '../input/'\n",
    "# age_train = pd.read_csv(PATH + \"age_train.csv\", names=['uid','age_group'])\n",
    "# age_test = pd.read_csv(PATH + \"age_test.csv\", names=['uid'])\n",
    "user_app_actived = pd.read_csv(PATH + \"user_app_actived.csv\", names=['uid','appId'])"
   ]
  },
  {
   "cell_type": "code",
   "execution_count": 66,
   "metadata": {},
   "outputs": [],
   "source": [
    "import warnings\n",
    "warnings.filterwarnings('ignore')\n",
    "user_app_actived['appId']=user_app_actived['appId'].apply(lambda x:x.split('#'))\n",
    "user_app_actived['appId_lenghth']=user_app_actived['appId'].apply(lambda x:len(x))\n",
    "apps=user_app_actived['appId'].apply(lambda x:' '.join(x)).tolist()\n",
    "user_app_actived.drop('appId',axis=1, inplace=True)\n",
    "vectorizer=CountVectorizer()\n",
    "transformer=TfidfTransformer()\n",
    "cntTf = vectorizer.fit_transform(apps)\n",
    "tfidf=transformer.fit_transform(cntTf)\n",
    "word=vectorizer.get_feature_names()"
   ]
  },
  {
   "cell_type": "code",
   "execution_count": 67,
   "metadata": {},
   "outputs": [
    {
     "data": {
      "text/plain": [
       "<2512500x9400 sparse matrix of type '<class 'numpy.float64'>'\n",
       "\twith 101799448 stored elements in Compressed Sparse Row format>"
      ]
     },
     "execution_count": 67,
     "metadata": {},
     "output_type": "execute_result"
    }
   ],
   "source": [
    "tfidf"
   ]
  },
  {
   "cell_type": "code",
   "execution_count": 68,
   "metadata": {},
   "outputs": [
    {
     "name": "stderr",
     "output_type": "stream",
     "text": [
      "100%|██████████| 2512500/2512500 [05:32<00:00, 7562.63it/s]\n"
     ]
    }
   ],
   "source": [
    "tfidf_sum = dict()\n",
    "for i in tqdm(range(2512500)):\n",
    "    tfidf_sum[i] = tfidf.getrow(i).sum()\n",
    "tfidf_sum = pd.Series(tfidf_sum)"
   ]
  },
  {
   "cell_type": "code",
   "execution_count": 69,
   "metadata": {},
   "outputs": [],
   "source": [
    "tfidf = pd.DataFrame()\n",
    "tfidf['tfidf_sum'] = tfidf_sum"
   ]
  },
  {
   "cell_type": "code",
   "execution_count": 70,
   "metadata": {},
   "outputs": [],
   "source": [
    "# weight=np.asarray(tfidf)\n",
    "# df_weight=pd.DataFrame(weight)\n",
    "# feature=df_weight.columns\n",
    "# df_weight['sum']=0\n",
    "# for f in tqdm(feature):\n",
    "#     df_weight['sum']+=df_weight[f]\n",
    "# user_app_actived['tfidf_sum']=df_weight['sum']"
   ]
  },
  {
   "cell_type": "code",
   "execution_count": 71,
   "metadata": {},
   "outputs": [],
   "source": [
    "lda = LatentDirichletAllocation(n_topics=10,\n",
    "                                learning_offset=50.,\n",
    "                                random_state=666)\n",
    "docres = lda.fit_transform(cntTf)"
   ]
  },
  {
   "cell_type": "code",
   "execution_count": 72,
   "metadata": {
    "collapsed": true
   },
   "outputs": [
    {
     "data": {
      "text/plain": [
       "array([[0.00066489, 0.00066489, 0.29318592, ..., 0.00066489, 0.00066489,\n",
       "        0.00066489],\n",
       "       [0.00067935, 0.00067935, 0.00067935, ..., 0.00067935, 0.00067935,\n",
       "        0.00067935],\n",
       "       [0.00183824, 0.00183824, 0.00183824, ..., 0.00183824, 0.00183824,\n",
       "        0.00183824],\n",
       "       ...,\n",
       "       [0.00084459, 0.00084459, 0.00084459, ..., 0.00084459, 0.44384919,\n",
       "        0.00084459],\n",
       "       [0.00115741, 0.00115741, 0.06667993, ..., 0.00115741, 0.00115741,\n",
       "        0.00115741],\n",
       "       [0.00086806, 0.00086806, 0.00086806, ..., 0.00086806, 0.00086806,\n",
       "        0.00086806]])"
      ]
     },
     "execution_count": 72,
     "metadata": {},
     "output_type": "execute_result"
    }
   ],
   "source": [
    "docres"
   ]
  },
  {
   "cell_type": "code",
   "execution_count": 73,
   "metadata": {},
   "outputs": [],
   "source": [
    "user_app_actived=pd.concat([user_app_actived,pd.DataFrame(docres)],axis=1)"
   ]
  },
  {
   "cell_type": "code",
   "execution_count": 74,
   "metadata": {},
   "outputs": [],
   "source": [
    "user_app_actived=pd.concat([user_app_actived,tfidf], axis=1)"
   ]
  },
  {
   "cell_type": "code",
   "execution_count": 75,
   "metadata": {},
   "outputs": [],
   "source": [
    "age_train = pd.read_csv(PATH + \"age_train.csv\", names=['uid','age_group'])\n",
    "age_test = pd.read_csv(PATH + \"age_test.csv\", names=['uid'])\n",
    "age_train=pd.concat([age_train,age_test])"
   ]
  },
  {
   "cell_type": "code",
   "execution_count": 76,
   "metadata": {},
   "outputs": [
    {
     "data": {
      "text/html": [
       "<div>\n",
       "<style scoped>\n",
       "    .dataframe tbody tr th:only-of-type {\n",
       "        vertical-align: middle;\n",
       "    }\n",
       "\n",
       "    .dataframe tbody tr th {\n",
       "        vertical-align: top;\n",
       "    }\n",
       "\n",
       "    .dataframe thead th {\n",
       "        text-align: right;\n",
       "    }\n",
       "</style>\n",
       "<table border=\"1\" class=\"dataframe\">\n",
       "  <thead>\n",
       "    <tr style=\"text-align: right;\">\n",
       "      <th></th>\n",
       "      <th>age_group</th>\n",
       "      <th>uid</th>\n",
       "      <th>appId_lenghth</th>\n",
       "      <th>0</th>\n",
       "      <th>1</th>\n",
       "      <th>2</th>\n",
       "      <th>3</th>\n",
       "      <th>4</th>\n",
       "      <th>5</th>\n",
       "      <th>6</th>\n",
       "      <th>7</th>\n",
       "      <th>8</th>\n",
       "      <th>9</th>\n",
       "      <th>10</th>\n",
       "      <th>11</th>\n",
       "      <th>12</th>\n",
       "      <th>13</th>\n",
       "      <th>14</th>\n",
       "      <th>15</th>\n",
       "      <th>16</th>\n",
       "      <th>17</th>\n",
       "      <th>18</th>\n",
       "      <th>19</th>\n",
       "      <th>20</th>\n",
       "      <th>21</th>\n",
       "      <th>22</th>\n",
       "      <th>23</th>\n",
       "      <th>24</th>\n",
       "      <th>25</th>\n",
       "      <th>26</th>\n",
       "      <th>27</th>\n",
       "      <th>28</th>\n",
       "      <th>29</th>\n",
       "      <th>30</th>\n",
       "      <th>31</th>\n",
       "      <th>tfidf_sum</th>\n",
       "    </tr>\n",
       "  </thead>\n",
       "  <tbody>\n",
       "    <tr>\n",
       "      <th>0</th>\n",
       "      <td>4</td>\n",
       "      <td>1000001</td>\n",
       "      <td>21</td>\n",
       "      <td>0.001420</td>\n",
       "      <td>0.001420</td>\n",
       "      <td>0.001420</td>\n",
       "      <td>0.001420</td>\n",
       "      <td>0.001420</td>\n",
       "      <td>0.001420</td>\n",
       "      <td>0.001420</td>\n",
       "      <td>0.001420</td>\n",
       "      <td>0.001420</td>\n",
       "      <td>0.001420</td>\n",
       "      <td>0.001420</td>\n",
       "      <td>0.001420</td>\n",
       "      <td>0.001420</td>\n",
       "      <td>0.001420</td>\n",
       "      <td>0.001420</td>\n",
       "      <td>0.001420</td>\n",
       "      <td>0.001420</td>\n",
       "      <td>0.001420</td>\n",
       "      <td>0.469018</td>\n",
       "      <td>0.001420</td>\n",
       "      <td>0.001420</td>\n",
       "      <td>0.001420</td>\n",
       "      <td>0.001420</td>\n",
       "      <td>0.117569</td>\n",
       "      <td>0.001420</td>\n",
       "      <td>0.001420</td>\n",
       "      <td>0.372220</td>\n",
       "      <td>0.001420</td>\n",
       "      <td>0.001420</td>\n",
       "      <td>0.001420</td>\n",
       "      <td>0.001420</td>\n",
       "      <td>0.001420</td>\n",
       "      <td>4.143144</td>\n",
       "    </tr>\n",
       "    <tr>\n",
       "      <th>1</th>\n",
       "      <td>3</td>\n",
       "      <td>1000011</td>\n",
       "      <td>16</td>\n",
       "      <td>0.001838</td>\n",
       "      <td>0.001838</td>\n",
       "      <td>0.001838</td>\n",
       "      <td>0.001838</td>\n",
       "      <td>0.001838</td>\n",
       "      <td>0.001838</td>\n",
       "      <td>0.317387</td>\n",
       "      <td>0.001838</td>\n",
       "      <td>0.001838</td>\n",
       "      <td>0.001838</td>\n",
       "      <td>0.001838</td>\n",
       "      <td>0.001838</td>\n",
       "      <td>0.001838</td>\n",
       "      <td>0.001838</td>\n",
       "      <td>0.001838</td>\n",
       "      <td>0.001838</td>\n",
       "      <td>0.001838</td>\n",
       "      <td>0.001838</td>\n",
       "      <td>0.001838</td>\n",
       "      <td>0.001838</td>\n",
       "      <td>0.001838</td>\n",
       "      <td>0.001838</td>\n",
       "      <td>0.001838</td>\n",
       "      <td>0.627466</td>\n",
       "      <td>0.001838</td>\n",
       "      <td>0.001838</td>\n",
       "      <td>0.001838</td>\n",
       "      <td>0.001838</td>\n",
       "      <td>0.001838</td>\n",
       "      <td>0.001838</td>\n",
       "      <td>0.001838</td>\n",
       "      <td>0.001838</td>\n",
       "      <td>3.218423</td>\n",
       "    </tr>\n",
       "    <tr>\n",
       "      <th>2</th>\n",
       "      <td>5</td>\n",
       "      <td>1000015</td>\n",
       "      <td>19</td>\n",
       "      <td>0.001563</td>\n",
       "      <td>0.001563</td>\n",
       "      <td>0.001563</td>\n",
       "      <td>0.001563</td>\n",
       "      <td>0.001563</td>\n",
       "      <td>0.165791</td>\n",
       "      <td>0.001563</td>\n",
       "      <td>0.001563</td>\n",
       "      <td>0.001563</td>\n",
       "      <td>0.001563</td>\n",
       "      <td>0.001563</td>\n",
       "      <td>0.001563</td>\n",
       "      <td>0.001563</td>\n",
       "      <td>0.001563</td>\n",
       "      <td>0.001563</td>\n",
       "      <td>0.001563</td>\n",
       "      <td>0.001563</td>\n",
       "      <td>0.588638</td>\n",
       "      <td>0.001563</td>\n",
       "      <td>0.001563</td>\n",
       "      <td>0.001563</td>\n",
       "      <td>0.200259</td>\n",
       "      <td>0.001563</td>\n",
       "      <td>0.001563</td>\n",
       "      <td>0.001563</td>\n",
       "      <td>0.001563</td>\n",
       "      <td>0.001563</td>\n",
       "      <td>0.001563</td>\n",
       "      <td>0.001563</td>\n",
       "      <td>0.001563</td>\n",
       "      <td>0.001563</td>\n",
       "      <td>0.001563</td>\n",
       "      <td>3.189480</td>\n",
       "    </tr>\n",
       "    <tr>\n",
       "      <th>3</th>\n",
       "      <td>3</td>\n",
       "      <td>1000019</td>\n",
       "      <td>2</td>\n",
       "      <td>0.010417</td>\n",
       "      <td>0.010417</td>\n",
       "      <td>0.010417</td>\n",
       "      <td>0.010417</td>\n",
       "      <td>0.010417</td>\n",
       "      <td>0.010417</td>\n",
       "      <td>0.010417</td>\n",
       "      <td>0.010417</td>\n",
       "      <td>0.010417</td>\n",
       "      <td>0.010417</td>\n",
       "      <td>0.010417</td>\n",
       "      <td>0.010417</td>\n",
       "      <td>0.010417</td>\n",
       "      <td>0.010417</td>\n",
       "      <td>0.010417</td>\n",
       "      <td>0.010417</td>\n",
       "      <td>0.010417</td>\n",
       "      <td>0.010417</td>\n",
       "      <td>0.010417</td>\n",
       "      <td>0.010417</td>\n",
       "      <td>0.010417</td>\n",
       "      <td>0.410574</td>\n",
       "      <td>0.010417</td>\n",
       "      <td>0.276926</td>\n",
       "      <td>0.010417</td>\n",
       "      <td>0.010417</td>\n",
       "      <td>0.010417</td>\n",
       "      <td>0.010417</td>\n",
       "      <td>0.010417</td>\n",
       "      <td>0.010417</td>\n",
       "      <td>0.010417</td>\n",
       "      <td>0.010417</td>\n",
       "      <td>1.256031</td>\n",
       "    </tr>\n",
       "    <tr>\n",
       "      <th>4</th>\n",
       "      <td>2</td>\n",
       "      <td>1000023</td>\n",
       "      <td>13</td>\n",
       "      <td>0.002232</td>\n",
       "      <td>0.002232</td>\n",
       "      <td>0.002232</td>\n",
       "      <td>0.002232</td>\n",
       "      <td>0.002232</td>\n",
       "      <td>0.002232</td>\n",
       "      <td>0.002232</td>\n",
       "      <td>0.002232</td>\n",
       "      <td>0.002232</td>\n",
       "      <td>0.002232</td>\n",
       "      <td>0.002232</td>\n",
       "      <td>0.002232</td>\n",
       "      <td>0.002232</td>\n",
       "      <td>0.002232</td>\n",
       "      <td>0.002232</td>\n",
       "      <td>0.002232</td>\n",
       "      <td>0.002232</td>\n",
       "      <td>0.002232</td>\n",
       "      <td>0.002232</td>\n",
       "      <td>0.002232</td>\n",
       "      <td>0.002232</td>\n",
       "      <td>0.002232</td>\n",
       "      <td>0.002232</td>\n",
       "      <td>0.930804</td>\n",
       "      <td>0.002232</td>\n",
       "      <td>0.002232</td>\n",
       "      <td>0.002232</td>\n",
       "      <td>0.002232</td>\n",
       "      <td>0.002232</td>\n",
       "      <td>0.002232</td>\n",
       "      <td>0.002232</td>\n",
       "      <td>0.002232</td>\n",
       "      <td>2.970135</td>\n",
       "    </tr>\n",
       "  </tbody>\n",
       "</table>\n",
       "</div>"
      ],
      "text/plain": [
       "  age_group      uid  appId_lenghth    ...            30        31  tfidf_sum\n",
       "0         4  1000001             21    ...      0.001420  0.001420   4.143144\n",
       "1         3  1000011             16    ...      0.001838  0.001838   3.218423\n",
       "2         5  1000015             19    ...      0.001563  0.001563   3.189480\n",
       "3         3  1000019              2    ...      0.010417  0.010417   1.256031\n",
       "4         2  1000023             13    ...      0.002232  0.002232   2.970135\n",
       "\n",
       "[5 rows x 36 columns]"
      ]
     },
     "execution_count": 76,
     "metadata": {},
     "output_type": "execute_result"
    }
   ],
   "source": [
    "age_train=pd.merge(age_train,user_app_actived,on='uid',how='left')\n",
    "age_train['age_group']=age_train['age_group'].apply(lambda x:str(x))\n",
    "def tool(x):\n",
    "    if x=='nan':\n",
    "        return x\n",
    "    else:\n",
    "        return str(int(float(x)))\n",
    "age_train['age_group']=age_train['age_group'].apply(tool)\n",
    "age_train=age_train.replace({'nan':np.NaN,'nan-nan':np.NaN})\n",
    "age_train.head()\n",
    "# train=deviceid_train[deviceid_train['sex'].notnull()]\n",
    "# test=deviceid_train[deviceid_train['sex'].isnull()]"
   ]
  },
  {
   "cell_type": "code",
   "execution_count": 77,
   "metadata": {},
   "outputs": [],
   "source": [
    "age_train.to_csv('./train.csv', index=False)"
   ]
  },
  {
   "cell_type": "code",
   "execution_count": 78,
   "metadata": {},
   "outputs": [
    {
     "data": {
      "text/html": [
       "<div>\n",
       "<style scoped>\n",
       "    .dataframe tbody tr th:only-of-type {\n",
       "        vertical-align: middle;\n",
       "    }\n",
       "\n",
       "    .dataframe tbody tr th {\n",
       "        vertical-align: top;\n",
       "    }\n",
       "\n",
       "    .dataframe thead th {\n",
       "        text-align: right;\n",
       "    }\n",
       "</style>\n",
       "<table border=\"1\" class=\"dataframe\">\n",
       "  <thead>\n",
       "    <tr style=\"text-align: right;\">\n",
       "      <th></th>\n",
       "      <th>age_group</th>\n",
       "      <th>uid</th>\n",
       "      <th>appId_lenghth</th>\n",
       "      <th>0</th>\n",
       "      <th>1</th>\n",
       "      <th>2</th>\n",
       "      <th>3</th>\n",
       "      <th>4</th>\n",
       "      <th>5</th>\n",
       "      <th>6</th>\n",
       "      <th>7</th>\n",
       "      <th>8</th>\n",
       "      <th>9</th>\n",
       "      <th>10</th>\n",
       "      <th>11</th>\n",
       "      <th>12</th>\n",
       "      <th>13</th>\n",
       "      <th>14</th>\n",
       "      <th>15</th>\n",
       "      <th>16</th>\n",
       "      <th>17</th>\n",
       "      <th>18</th>\n",
       "      <th>19</th>\n",
       "      <th>20</th>\n",
       "      <th>21</th>\n",
       "      <th>22</th>\n",
       "      <th>23</th>\n",
       "      <th>24</th>\n",
       "      <th>25</th>\n",
       "      <th>26</th>\n",
       "      <th>27</th>\n",
       "      <th>28</th>\n",
       "      <th>29</th>\n",
       "      <th>30</th>\n",
       "      <th>31</th>\n",
       "      <th>tfidf_sum</th>\n",
       "    </tr>\n",
       "  </thead>\n",
       "  <tbody>\n",
       "    <tr>\n",
       "      <th>0</th>\n",
       "      <td>4</td>\n",
       "      <td>1000001</td>\n",
       "      <td>21</td>\n",
       "      <td>0.001420</td>\n",
       "      <td>0.001420</td>\n",
       "      <td>0.001420</td>\n",
       "      <td>0.001420</td>\n",
       "      <td>0.001420</td>\n",
       "      <td>0.001420</td>\n",
       "      <td>0.001420</td>\n",
       "      <td>0.001420</td>\n",
       "      <td>0.001420</td>\n",
       "      <td>0.001420</td>\n",
       "      <td>0.001420</td>\n",
       "      <td>0.001420</td>\n",
       "      <td>0.001420</td>\n",
       "      <td>0.001420</td>\n",
       "      <td>0.001420</td>\n",
       "      <td>0.001420</td>\n",
       "      <td>0.001420</td>\n",
       "      <td>0.001420</td>\n",
       "      <td>0.469018</td>\n",
       "      <td>0.001420</td>\n",
       "      <td>0.001420</td>\n",
       "      <td>0.001420</td>\n",
       "      <td>0.001420</td>\n",
       "      <td>0.117569</td>\n",
       "      <td>0.001420</td>\n",
       "      <td>0.001420</td>\n",
       "      <td>0.372220</td>\n",
       "      <td>0.001420</td>\n",
       "      <td>0.001420</td>\n",
       "      <td>0.001420</td>\n",
       "      <td>0.001420</td>\n",
       "      <td>0.001420</td>\n",
       "      <td>4.143144</td>\n",
       "    </tr>\n",
       "    <tr>\n",
       "      <th>1</th>\n",
       "      <td>3</td>\n",
       "      <td>1000011</td>\n",
       "      <td>16</td>\n",
       "      <td>0.001838</td>\n",
       "      <td>0.001838</td>\n",
       "      <td>0.001838</td>\n",
       "      <td>0.001838</td>\n",
       "      <td>0.001838</td>\n",
       "      <td>0.001838</td>\n",
       "      <td>0.317387</td>\n",
       "      <td>0.001838</td>\n",
       "      <td>0.001838</td>\n",
       "      <td>0.001838</td>\n",
       "      <td>0.001838</td>\n",
       "      <td>0.001838</td>\n",
       "      <td>0.001838</td>\n",
       "      <td>0.001838</td>\n",
       "      <td>0.001838</td>\n",
       "      <td>0.001838</td>\n",
       "      <td>0.001838</td>\n",
       "      <td>0.001838</td>\n",
       "      <td>0.001838</td>\n",
       "      <td>0.001838</td>\n",
       "      <td>0.001838</td>\n",
       "      <td>0.001838</td>\n",
       "      <td>0.001838</td>\n",
       "      <td>0.627466</td>\n",
       "      <td>0.001838</td>\n",
       "      <td>0.001838</td>\n",
       "      <td>0.001838</td>\n",
       "      <td>0.001838</td>\n",
       "      <td>0.001838</td>\n",
       "      <td>0.001838</td>\n",
       "      <td>0.001838</td>\n",
       "      <td>0.001838</td>\n",
       "      <td>3.218423</td>\n",
       "    </tr>\n",
       "    <tr>\n",
       "      <th>2</th>\n",
       "      <td>5</td>\n",
       "      <td>1000015</td>\n",
       "      <td>19</td>\n",
       "      <td>0.001563</td>\n",
       "      <td>0.001563</td>\n",
       "      <td>0.001563</td>\n",
       "      <td>0.001563</td>\n",
       "      <td>0.001563</td>\n",
       "      <td>0.165791</td>\n",
       "      <td>0.001563</td>\n",
       "      <td>0.001563</td>\n",
       "      <td>0.001563</td>\n",
       "      <td>0.001563</td>\n",
       "      <td>0.001563</td>\n",
       "      <td>0.001563</td>\n",
       "      <td>0.001563</td>\n",
       "      <td>0.001563</td>\n",
       "      <td>0.001563</td>\n",
       "      <td>0.001563</td>\n",
       "      <td>0.001563</td>\n",
       "      <td>0.588638</td>\n",
       "      <td>0.001563</td>\n",
       "      <td>0.001563</td>\n",
       "      <td>0.001563</td>\n",
       "      <td>0.200259</td>\n",
       "      <td>0.001563</td>\n",
       "      <td>0.001563</td>\n",
       "      <td>0.001563</td>\n",
       "      <td>0.001563</td>\n",
       "      <td>0.001563</td>\n",
       "      <td>0.001563</td>\n",
       "      <td>0.001563</td>\n",
       "      <td>0.001563</td>\n",
       "      <td>0.001563</td>\n",
       "      <td>0.001563</td>\n",
       "      <td>3.189480</td>\n",
       "    </tr>\n",
       "    <tr>\n",
       "      <th>3</th>\n",
       "      <td>3</td>\n",
       "      <td>1000019</td>\n",
       "      <td>2</td>\n",
       "      <td>0.010417</td>\n",
       "      <td>0.010417</td>\n",
       "      <td>0.010417</td>\n",
       "      <td>0.010417</td>\n",
       "      <td>0.010417</td>\n",
       "      <td>0.010417</td>\n",
       "      <td>0.010417</td>\n",
       "      <td>0.010417</td>\n",
       "      <td>0.010417</td>\n",
       "      <td>0.010417</td>\n",
       "      <td>0.010417</td>\n",
       "      <td>0.010417</td>\n",
       "      <td>0.010417</td>\n",
       "      <td>0.010417</td>\n",
       "      <td>0.010417</td>\n",
       "      <td>0.010417</td>\n",
       "      <td>0.010417</td>\n",
       "      <td>0.010417</td>\n",
       "      <td>0.010417</td>\n",
       "      <td>0.010417</td>\n",
       "      <td>0.010417</td>\n",
       "      <td>0.410574</td>\n",
       "      <td>0.010417</td>\n",
       "      <td>0.276926</td>\n",
       "      <td>0.010417</td>\n",
       "      <td>0.010417</td>\n",
       "      <td>0.010417</td>\n",
       "      <td>0.010417</td>\n",
       "      <td>0.010417</td>\n",
       "      <td>0.010417</td>\n",
       "      <td>0.010417</td>\n",
       "      <td>0.010417</td>\n",
       "      <td>1.256031</td>\n",
       "    </tr>\n",
       "    <tr>\n",
       "      <th>4</th>\n",
       "      <td>2</td>\n",
       "      <td>1000023</td>\n",
       "      <td>13</td>\n",
       "      <td>0.002232</td>\n",
       "      <td>0.002232</td>\n",
       "      <td>0.002232</td>\n",
       "      <td>0.002232</td>\n",
       "      <td>0.002232</td>\n",
       "      <td>0.002232</td>\n",
       "      <td>0.002232</td>\n",
       "      <td>0.002232</td>\n",
       "      <td>0.002232</td>\n",
       "      <td>0.002232</td>\n",
       "      <td>0.002232</td>\n",
       "      <td>0.002232</td>\n",
       "      <td>0.002232</td>\n",
       "      <td>0.002232</td>\n",
       "      <td>0.002232</td>\n",
       "      <td>0.002232</td>\n",
       "      <td>0.002232</td>\n",
       "      <td>0.002232</td>\n",
       "      <td>0.002232</td>\n",
       "      <td>0.002232</td>\n",
       "      <td>0.002232</td>\n",
       "      <td>0.002232</td>\n",
       "      <td>0.002232</td>\n",
       "      <td>0.930804</td>\n",
       "      <td>0.002232</td>\n",
       "      <td>0.002232</td>\n",
       "      <td>0.002232</td>\n",
       "      <td>0.002232</td>\n",
       "      <td>0.002232</td>\n",
       "      <td>0.002232</td>\n",
       "      <td>0.002232</td>\n",
       "      <td>0.002232</td>\n",
       "      <td>2.970135</td>\n",
       "    </tr>\n",
       "  </tbody>\n",
       "</table>\n",
       "</div>"
      ],
      "text/plain": [
       "  age_group      uid  appId_lenghth    ...            30        31  tfidf_sum\n",
       "0         4  1000001             21    ...      0.001420  0.001420   4.143144\n",
       "1         3  1000011             16    ...      0.001838  0.001838   3.218423\n",
       "2         5  1000015             19    ...      0.001563  0.001563   3.189480\n",
       "3         3  1000019              2    ...      0.010417  0.010417   1.256031\n",
       "4         2  1000023             13    ...      0.002232  0.002232   2.970135\n",
       "\n",
       "[5 rows x 36 columns]"
      ]
     },
     "execution_count": 78,
     "metadata": {},
     "output_type": "execute_result"
    }
   ],
   "source": [
    "age_train.head()"
   ]
  },
  {
   "cell_type": "code",
   "execution_count": 79,
   "metadata": {},
   "outputs": [],
   "source": [
    "train=age_train[age_train['age_group'].notnull()]\n",
    "test=age_train[age_train['age_group'].isnull()]"
   ]
  },
  {
   "cell_type": "code",
   "execution_count": 80,
   "metadata": {},
   "outputs": [
    {
     "data": {
      "text/html": [
       "<div>\n",
       "<style scoped>\n",
       "    .dataframe tbody tr th:only-of-type {\n",
       "        vertical-align: middle;\n",
       "    }\n",
       "\n",
       "    .dataframe tbody tr th {\n",
       "        vertical-align: top;\n",
       "    }\n",
       "\n",
       "    .dataframe thead th {\n",
       "        text-align: right;\n",
       "    }\n",
       "</style>\n",
       "<table border=\"1\" class=\"dataframe\">\n",
       "  <thead>\n",
       "    <tr style=\"text-align: right;\">\n",
       "      <th></th>\n",
       "      <th>age_group</th>\n",
       "      <th>uid</th>\n",
       "      <th>appId_lenghth</th>\n",
       "      <th>0</th>\n",
       "      <th>1</th>\n",
       "      <th>2</th>\n",
       "      <th>3</th>\n",
       "      <th>4</th>\n",
       "      <th>5</th>\n",
       "      <th>6</th>\n",
       "      <th>7</th>\n",
       "      <th>8</th>\n",
       "      <th>9</th>\n",
       "      <th>10</th>\n",
       "      <th>11</th>\n",
       "      <th>12</th>\n",
       "      <th>13</th>\n",
       "      <th>14</th>\n",
       "      <th>15</th>\n",
       "      <th>16</th>\n",
       "      <th>17</th>\n",
       "      <th>18</th>\n",
       "      <th>19</th>\n",
       "      <th>20</th>\n",
       "      <th>21</th>\n",
       "      <th>22</th>\n",
       "      <th>23</th>\n",
       "      <th>24</th>\n",
       "      <th>25</th>\n",
       "      <th>26</th>\n",
       "      <th>27</th>\n",
       "      <th>28</th>\n",
       "      <th>29</th>\n",
       "      <th>30</th>\n",
       "      <th>31</th>\n",
       "      <th>tfidf_sum</th>\n",
       "    </tr>\n",
       "  </thead>\n",
       "  <tbody>\n",
       "    <tr>\n",
       "      <th>0</th>\n",
       "      <td>4</td>\n",
       "      <td>1000001</td>\n",
       "      <td>21</td>\n",
       "      <td>0.001420</td>\n",
       "      <td>0.001420</td>\n",
       "      <td>0.001420</td>\n",
       "      <td>0.001420</td>\n",
       "      <td>0.001420</td>\n",
       "      <td>0.001420</td>\n",
       "      <td>0.001420</td>\n",
       "      <td>0.001420</td>\n",
       "      <td>0.001420</td>\n",
       "      <td>0.001420</td>\n",
       "      <td>0.001420</td>\n",
       "      <td>0.001420</td>\n",
       "      <td>0.001420</td>\n",
       "      <td>0.001420</td>\n",
       "      <td>0.001420</td>\n",
       "      <td>0.001420</td>\n",
       "      <td>0.001420</td>\n",
       "      <td>0.001420</td>\n",
       "      <td>0.469018</td>\n",
       "      <td>0.001420</td>\n",
       "      <td>0.001420</td>\n",
       "      <td>0.001420</td>\n",
       "      <td>0.001420</td>\n",
       "      <td>0.117569</td>\n",
       "      <td>0.001420</td>\n",
       "      <td>0.001420</td>\n",
       "      <td>0.372220</td>\n",
       "      <td>0.001420</td>\n",
       "      <td>0.001420</td>\n",
       "      <td>0.001420</td>\n",
       "      <td>0.001420</td>\n",
       "      <td>0.001420</td>\n",
       "      <td>4.143144</td>\n",
       "    </tr>\n",
       "    <tr>\n",
       "      <th>1</th>\n",
       "      <td>3</td>\n",
       "      <td>1000011</td>\n",
       "      <td>16</td>\n",
       "      <td>0.001838</td>\n",
       "      <td>0.001838</td>\n",
       "      <td>0.001838</td>\n",
       "      <td>0.001838</td>\n",
       "      <td>0.001838</td>\n",
       "      <td>0.001838</td>\n",
       "      <td>0.317387</td>\n",
       "      <td>0.001838</td>\n",
       "      <td>0.001838</td>\n",
       "      <td>0.001838</td>\n",
       "      <td>0.001838</td>\n",
       "      <td>0.001838</td>\n",
       "      <td>0.001838</td>\n",
       "      <td>0.001838</td>\n",
       "      <td>0.001838</td>\n",
       "      <td>0.001838</td>\n",
       "      <td>0.001838</td>\n",
       "      <td>0.001838</td>\n",
       "      <td>0.001838</td>\n",
       "      <td>0.001838</td>\n",
       "      <td>0.001838</td>\n",
       "      <td>0.001838</td>\n",
       "      <td>0.001838</td>\n",
       "      <td>0.627466</td>\n",
       "      <td>0.001838</td>\n",
       "      <td>0.001838</td>\n",
       "      <td>0.001838</td>\n",
       "      <td>0.001838</td>\n",
       "      <td>0.001838</td>\n",
       "      <td>0.001838</td>\n",
       "      <td>0.001838</td>\n",
       "      <td>0.001838</td>\n",
       "      <td>3.218423</td>\n",
       "    </tr>\n",
       "    <tr>\n",
       "      <th>2</th>\n",
       "      <td>5</td>\n",
       "      <td>1000015</td>\n",
       "      <td>19</td>\n",
       "      <td>0.001563</td>\n",
       "      <td>0.001563</td>\n",
       "      <td>0.001563</td>\n",
       "      <td>0.001563</td>\n",
       "      <td>0.001563</td>\n",
       "      <td>0.165791</td>\n",
       "      <td>0.001563</td>\n",
       "      <td>0.001563</td>\n",
       "      <td>0.001563</td>\n",
       "      <td>0.001563</td>\n",
       "      <td>0.001563</td>\n",
       "      <td>0.001563</td>\n",
       "      <td>0.001563</td>\n",
       "      <td>0.001563</td>\n",
       "      <td>0.001563</td>\n",
       "      <td>0.001563</td>\n",
       "      <td>0.001563</td>\n",
       "      <td>0.588638</td>\n",
       "      <td>0.001563</td>\n",
       "      <td>0.001563</td>\n",
       "      <td>0.001563</td>\n",
       "      <td>0.200259</td>\n",
       "      <td>0.001563</td>\n",
       "      <td>0.001563</td>\n",
       "      <td>0.001563</td>\n",
       "      <td>0.001563</td>\n",
       "      <td>0.001563</td>\n",
       "      <td>0.001563</td>\n",
       "      <td>0.001563</td>\n",
       "      <td>0.001563</td>\n",
       "      <td>0.001563</td>\n",
       "      <td>0.001563</td>\n",
       "      <td>3.189480</td>\n",
       "    </tr>\n",
       "    <tr>\n",
       "      <th>3</th>\n",
       "      <td>3</td>\n",
       "      <td>1000019</td>\n",
       "      <td>2</td>\n",
       "      <td>0.010417</td>\n",
       "      <td>0.010417</td>\n",
       "      <td>0.010417</td>\n",
       "      <td>0.010417</td>\n",
       "      <td>0.010417</td>\n",
       "      <td>0.010417</td>\n",
       "      <td>0.010417</td>\n",
       "      <td>0.010417</td>\n",
       "      <td>0.010417</td>\n",
       "      <td>0.010417</td>\n",
       "      <td>0.010417</td>\n",
       "      <td>0.010417</td>\n",
       "      <td>0.010417</td>\n",
       "      <td>0.010417</td>\n",
       "      <td>0.010417</td>\n",
       "      <td>0.010417</td>\n",
       "      <td>0.010417</td>\n",
       "      <td>0.010417</td>\n",
       "      <td>0.010417</td>\n",
       "      <td>0.010417</td>\n",
       "      <td>0.010417</td>\n",
       "      <td>0.410574</td>\n",
       "      <td>0.010417</td>\n",
       "      <td>0.276926</td>\n",
       "      <td>0.010417</td>\n",
       "      <td>0.010417</td>\n",
       "      <td>0.010417</td>\n",
       "      <td>0.010417</td>\n",
       "      <td>0.010417</td>\n",
       "      <td>0.010417</td>\n",
       "      <td>0.010417</td>\n",
       "      <td>0.010417</td>\n",
       "      <td>1.256031</td>\n",
       "    </tr>\n",
       "    <tr>\n",
       "      <th>4</th>\n",
       "      <td>2</td>\n",
       "      <td>1000023</td>\n",
       "      <td>13</td>\n",
       "      <td>0.002232</td>\n",
       "      <td>0.002232</td>\n",
       "      <td>0.002232</td>\n",
       "      <td>0.002232</td>\n",
       "      <td>0.002232</td>\n",
       "      <td>0.002232</td>\n",
       "      <td>0.002232</td>\n",
       "      <td>0.002232</td>\n",
       "      <td>0.002232</td>\n",
       "      <td>0.002232</td>\n",
       "      <td>0.002232</td>\n",
       "      <td>0.002232</td>\n",
       "      <td>0.002232</td>\n",
       "      <td>0.002232</td>\n",
       "      <td>0.002232</td>\n",
       "      <td>0.002232</td>\n",
       "      <td>0.002232</td>\n",
       "      <td>0.002232</td>\n",
       "      <td>0.002232</td>\n",
       "      <td>0.002232</td>\n",
       "      <td>0.002232</td>\n",
       "      <td>0.002232</td>\n",
       "      <td>0.002232</td>\n",
       "      <td>0.930804</td>\n",
       "      <td>0.002232</td>\n",
       "      <td>0.002232</td>\n",
       "      <td>0.002232</td>\n",
       "      <td>0.002232</td>\n",
       "      <td>0.002232</td>\n",
       "      <td>0.002232</td>\n",
       "      <td>0.002232</td>\n",
       "      <td>0.002232</td>\n",
       "      <td>2.970135</td>\n",
       "    </tr>\n",
       "  </tbody>\n",
       "</table>\n",
       "</div>"
      ],
      "text/plain": [
       "  age_group      uid  appId_lenghth    ...            30        31  tfidf_sum\n",
       "0         4  1000001             21    ...      0.001420  0.001420   4.143144\n",
       "1         3  1000011             16    ...      0.001838  0.001838   3.218423\n",
       "2         5  1000015             19    ...      0.001563  0.001563   3.189480\n",
       "3         3  1000019              2    ...      0.010417  0.010417   1.256031\n",
       "4         2  1000023             13    ...      0.002232  0.002232   2.970135\n",
       "\n",
       "[5 rows x 36 columns]"
      ]
     },
     "execution_count": 80,
     "metadata": {},
     "output_type": "execute_result"
    }
   ],
   "source": [
    "train.head()"
   ]
  },
  {
   "cell_type": "code",
   "execution_count": 81,
   "metadata": {},
   "outputs": [
    {
     "data": {
      "text/html": [
       "<div>\n",
       "<style scoped>\n",
       "    .dataframe tbody tr th:only-of-type {\n",
       "        vertical-align: middle;\n",
       "    }\n",
       "\n",
       "    .dataframe tbody tr th {\n",
       "        vertical-align: top;\n",
       "    }\n",
       "\n",
       "    .dataframe thead th {\n",
       "        text-align: right;\n",
       "    }\n",
       "</style>\n",
       "<table border=\"1\" class=\"dataframe\">\n",
       "  <thead>\n",
       "    <tr style=\"text-align: right;\">\n",
       "      <th></th>\n",
       "      <th>age_group</th>\n",
       "      <th>uid</th>\n",
       "      <th>appId_lenghth</th>\n",
       "      <th>0</th>\n",
       "      <th>1</th>\n",
       "      <th>2</th>\n",
       "      <th>3</th>\n",
       "      <th>4</th>\n",
       "      <th>5</th>\n",
       "      <th>6</th>\n",
       "      <th>7</th>\n",
       "      <th>8</th>\n",
       "      <th>9</th>\n",
       "      <th>10</th>\n",
       "      <th>11</th>\n",
       "      <th>12</th>\n",
       "      <th>13</th>\n",
       "      <th>14</th>\n",
       "      <th>15</th>\n",
       "      <th>16</th>\n",
       "      <th>17</th>\n",
       "      <th>18</th>\n",
       "      <th>19</th>\n",
       "      <th>20</th>\n",
       "      <th>21</th>\n",
       "      <th>22</th>\n",
       "      <th>23</th>\n",
       "      <th>24</th>\n",
       "      <th>25</th>\n",
       "      <th>26</th>\n",
       "      <th>27</th>\n",
       "      <th>28</th>\n",
       "      <th>29</th>\n",
       "      <th>30</th>\n",
       "      <th>31</th>\n",
       "      <th>tfidf_sum</th>\n",
       "    </tr>\n",
       "  </thead>\n",
       "  <tbody>\n",
       "    <tr>\n",
       "      <th>2010000</th>\n",
       "      <td>NaN</td>\n",
       "      <td>1000002</td>\n",
       "      <td>69</td>\n",
       "      <td>0.000446</td>\n",
       "      <td>0.079078</td>\n",
       "      <td>0.000446</td>\n",
       "      <td>0.000446</td>\n",
       "      <td>0.000446</td>\n",
       "      <td>0.000446</td>\n",
       "      <td>0.000446</td>\n",
       "      <td>0.000446</td>\n",
       "      <td>0.000446</td>\n",
       "      <td>0.000446</td>\n",
       "      <td>0.000446</td>\n",
       "      <td>0.217777</td>\n",
       "      <td>0.000446</td>\n",
       "      <td>0.000446</td>\n",
       "      <td>0.000446</td>\n",
       "      <td>0.000446</td>\n",
       "      <td>0.000446</td>\n",
       "      <td>0.000446</td>\n",
       "      <td>0.000446</td>\n",
       "      <td>0.000446</td>\n",
       "      <td>0.221533</td>\n",
       "      <td>0.000446</td>\n",
       "      <td>0.000446</td>\n",
       "      <td>0.000446</td>\n",
       "      <td>0.000446</td>\n",
       "      <td>0.000446</td>\n",
       "      <td>0.225867</td>\n",
       "      <td>0.000446</td>\n",
       "      <td>0.000446</td>\n",
       "      <td>0.243692</td>\n",
       "      <td>0.000446</td>\n",
       "      <td>0.000446</td>\n",
       "      <td>7.322537</td>\n",
       "    </tr>\n",
       "    <tr>\n",
       "      <th>2010001</th>\n",
       "      <td>NaN</td>\n",
       "      <td>1000003</td>\n",
       "      <td>80</td>\n",
       "      <td>0.000386</td>\n",
       "      <td>0.046305</td>\n",
       "      <td>0.000386</td>\n",
       "      <td>0.000386</td>\n",
       "      <td>0.000386</td>\n",
       "      <td>0.000386</td>\n",
       "      <td>0.000386</td>\n",
       "      <td>0.142620</td>\n",
       "      <td>0.000386</td>\n",
       "      <td>0.000386</td>\n",
       "      <td>0.094468</td>\n",
       "      <td>0.000386</td>\n",
       "      <td>0.000386</td>\n",
       "      <td>0.000386</td>\n",
       "      <td>0.000386</td>\n",
       "      <td>0.246438</td>\n",
       "      <td>0.000386</td>\n",
       "      <td>0.000386</td>\n",
       "      <td>0.111146</td>\n",
       "      <td>0.000386</td>\n",
       "      <td>0.000386</td>\n",
       "      <td>0.000386</td>\n",
       "      <td>0.000386</td>\n",
       "      <td>0.000386</td>\n",
       "      <td>0.000386</td>\n",
       "      <td>0.000386</td>\n",
       "      <td>0.000386</td>\n",
       "      <td>0.159146</td>\n",
       "      <td>0.000386</td>\n",
       "      <td>0.000386</td>\n",
       "      <td>0.190232</td>\n",
       "      <td>0.000386</td>\n",
       "      <td>7.855082</td>\n",
       "    </tr>\n",
       "    <tr>\n",
       "      <th>2010002</th>\n",
       "      <td>NaN</td>\n",
       "      <td>1000004</td>\n",
       "      <td>26</td>\n",
       "      <td>0.001157</td>\n",
       "      <td>0.001157</td>\n",
       "      <td>0.001157</td>\n",
       "      <td>0.001157</td>\n",
       "      <td>0.001157</td>\n",
       "      <td>0.001157</td>\n",
       "      <td>0.001157</td>\n",
       "      <td>0.001157</td>\n",
       "      <td>0.001157</td>\n",
       "      <td>0.001157</td>\n",
       "      <td>0.001157</td>\n",
       "      <td>0.001157</td>\n",
       "      <td>0.001157</td>\n",
       "      <td>0.001157</td>\n",
       "      <td>0.001157</td>\n",
       "      <td>0.001157</td>\n",
       "      <td>0.001157</td>\n",
       "      <td>0.151632</td>\n",
       "      <td>0.001157</td>\n",
       "      <td>0.001157</td>\n",
       "      <td>0.001157</td>\n",
       "      <td>0.001157</td>\n",
       "      <td>0.001157</td>\n",
       "      <td>0.001157</td>\n",
       "      <td>0.001157</td>\n",
       "      <td>0.001157</td>\n",
       "      <td>0.623379</td>\n",
       "      <td>0.001157</td>\n",
       "      <td>0.001157</td>\n",
       "      <td>0.001157</td>\n",
       "      <td>0.191423</td>\n",
       "      <td>0.001157</td>\n",
       "      <td>4.171360</td>\n",
       "    </tr>\n",
       "    <tr>\n",
       "      <th>2010003</th>\n",
       "      <td>NaN</td>\n",
       "      <td>1000005</td>\n",
       "      <td>34</td>\n",
       "      <td>0.000893</td>\n",
       "      <td>0.000893</td>\n",
       "      <td>0.769467</td>\n",
       "      <td>0.000893</td>\n",
       "      <td>0.000893</td>\n",
       "      <td>0.000893</td>\n",
       "      <td>0.000893</td>\n",
       "      <td>0.000893</td>\n",
       "      <td>0.000893</td>\n",
       "      <td>0.000893</td>\n",
       "      <td>0.000893</td>\n",
       "      <td>0.167431</td>\n",
       "      <td>0.000893</td>\n",
       "      <td>0.000893</td>\n",
       "      <td>0.000893</td>\n",
       "      <td>0.000893</td>\n",
       "      <td>0.000893</td>\n",
       "      <td>0.000893</td>\n",
       "      <td>0.037209</td>\n",
       "      <td>0.000893</td>\n",
       "      <td>0.000893</td>\n",
       "      <td>0.000893</td>\n",
       "      <td>0.000893</td>\n",
       "      <td>0.000893</td>\n",
       "      <td>0.000893</td>\n",
       "      <td>0.000893</td>\n",
       "      <td>0.000893</td>\n",
       "      <td>0.000893</td>\n",
       "      <td>0.000893</td>\n",
       "      <td>0.000893</td>\n",
       "      <td>0.000893</td>\n",
       "      <td>0.000893</td>\n",
       "      <td>5.266798</td>\n",
       "    </tr>\n",
       "    <tr>\n",
       "      <th>2010004</th>\n",
       "      <td>NaN</td>\n",
       "      <td>1000006</td>\n",
       "      <td>10</td>\n",
       "      <td>0.002841</td>\n",
       "      <td>0.002841</td>\n",
       "      <td>0.002841</td>\n",
       "      <td>0.002841</td>\n",
       "      <td>0.002841</td>\n",
       "      <td>0.168602</td>\n",
       "      <td>0.002841</td>\n",
       "      <td>0.002841</td>\n",
       "      <td>0.002841</td>\n",
       "      <td>0.002841</td>\n",
       "      <td>0.002841</td>\n",
       "      <td>0.002841</td>\n",
       "      <td>0.002841</td>\n",
       "      <td>0.002841</td>\n",
       "      <td>0.002841</td>\n",
       "      <td>0.129369</td>\n",
       "      <td>0.002841</td>\n",
       "      <td>0.619643</td>\n",
       "      <td>0.002841</td>\n",
       "      <td>0.002841</td>\n",
       "      <td>0.002841</td>\n",
       "      <td>0.002841</td>\n",
       "      <td>0.002841</td>\n",
       "      <td>0.002841</td>\n",
       "      <td>0.002841</td>\n",
       "      <td>0.002841</td>\n",
       "      <td>0.002841</td>\n",
       "      <td>0.002841</td>\n",
       "      <td>0.002841</td>\n",
       "      <td>0.002841</td>\n",
       "      <td>0.002841</td>\n",
       "      <td>0.002841</td>\n",
       "      <td>2.614293</td>\n",
       "    </tr>\n",
       "  </tbody>\n",
       "</table>\n",
       "</div>"
      ],
      "text/plain": [
       "        age_group      uid    ...            31  tfidf_sum\n",
       "2010000       NaN  1000002    ...      0.000446   7.322537\n",
       "2010001       NaN  1000003    ...      0.000386   7.855082\n",
       "2010002       NaN  1000004    ...      0.001157   4.171360\n",
       "2010003       NaN  1000005    ...      0.000893   5.266798\n",
       "2010004       NaN  1000006    ...      0.002841   2.614293\n",
       "\n",
       "[5 rows x 36 columns]"
      ]
     },
     "execution_count": 81,
     "metadata": {},
     "output_type": "execute_result"
    }
   ],
   "source": [
    "test.head()"
   ]
  },
  {
   "cell_type": "code",
   "execution_count": 82,
   "metadata": {},
   "outputs": [],
   "source": [
    "train.to_csv('./train_data.csv', index=False)\n",
    "test.to_csv('./test_data.csv', index=False)"
   ]
  }
 ],
 "metadata": {
  "kernelspec": {
   "display_name": "Python 3",
   "language": "python",
   "name": "python3"
  },
  "language_info": {
   "codemirror_mode": {
    "name": "ipython",
    "version": 3
   },
   "file_extension": ".py",
   "mimetype": "text/x-python",
   "name": "python",
   "nbconvert_exporter": "python",
   "pygments_lexer": "ipython3",
   "version": "3.7.3"
  }
 },
 "nbformat": 4,
 "nbformat_minor": 1
}
